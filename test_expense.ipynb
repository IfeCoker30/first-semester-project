{
 "cells": [
  {
   "cell_type": "code",
   "execution_count": 1,
   "metadata": {},
   "outputs": [],
   "source": [
    "from project import Expense, ExpenseDB"
   ]
  },
  {
   "cell_type": "code",
   "execution_count": 2,
   "metadata": {},
   "outputs": [
    {
     "name": "stdout",
     "output_type": "stream",
     "text": [
      "All Expenses: [{'id': '66e660ad-6ff8-4d23-a92f-63d212c4b8c0', 'title': 'Lunch', 'amount': 12.99, 'created_at': '2025-02-22T23:47:36.018684+00:00', 'updated_at': '2025-02-22T23:47:36.018684+00:00'}, {'id': '857ebbbf-2c00-49e4-a88e-f4eb62552db4', 'title': 'Groceries', 'amount': 45.25, 'created_at': '2025-02-22T23:47:36.018684+00:00', 'updated_at': '2025-02-22T23:47:36.018684+00:00'}, {'id': '682262f0-a5d3-4adc-bcf7-1611d4f93784', 'title': 'Lunch', 'amount': 9.5, 'created_at': '2025-02-22T23:47:36.018684+00:00', 'updated_at': '2025-02-22T23:47:36.018684+00:00'}]\n",
      "\n",
      "Get Expense by ID: {'id': '66e660ad-6ff8-4d23-a92f-63d212c4b8c0', 'title': 'Lunch', 'amount': 12.99, 'created_at': '2025-02-22T23:47:36.018684+00:00', 'updated_at': '2025-02-22T23:47:36.018684+00:00'}\n",
      "\n",
      "Expenses with title 'Lunch': [{'id': '66e660ad-6ff8-4d23-a92f-63d212c4b8c0', 'title': 'Lunch', 'amount': 12.99, 'created_at': '2025-02-22T23:47:36.018684+00:00', 'updated_at': '2025-02-22T23:47:36.018684+00:00'}, {'id': '682262f0-a5d3-4adc-bcf7-1611d4f93784', 'title': 'Lunch', 'amount': 9.5, 'created_at': '2025-02-22T23:47:36.018684+00:00', 'updated_at': '2025-02-22T23:47:36.018684+00:00'}]\n",
      "\n",
      "Removed Expense (Groceries): Success\n",
      "\n",
      "All Expenses After Removal: [{'id': '66e660ad-6ff8-4d23-a92f-63d212c4b8c0', 'title': 'Lunch', 'amount': 12.99, 'created_at': '2025-02-22T23:47:36.018684+00:00', 'updated_at': '2025-02-22T23:47:36.018684+00:00'}, {'id': '682262f0-a5d3-4adc-bcf7-1611d4f93784', 'title': 'Lunch', 'amount': 9.5, 'created_at': '2025-02-22T23:47:36.018684+00:00', 'updated_at': '2025-02-22T23:47:36.018684+00:00'}]\n"
     ]
    }
   ],
   "source": [
    "# Create an instance of ExpenseDB\n",
    "db = ExpenseDB()\n",
    "\n",
    "# Create expenses\n",
    "expense1 = Expense(title=\"Lunch\", amount=12.99)\n",
    "expense2 = Expense(title=\"Groceries\", amount=45.25)\n",
    "expense3 = Expense(title=\"Lunch\", amount=9.50)\n",
    "\n",
    "# Add expenses to database\n",
    "db.add_expense(expense1)\n",
    "db.add_expense(expense2)\n",
    "db.add_expense(expense3)\n",
    "\n",
    "# Print all expenses\n",
    "print(\"All Expenses:\", db.to_dict())\n",
    "\n",
    "# Get an expense by ID\n",
    "get_expense = db.get_expense_by_id(expense1.id)\n",
    "print(\"\\nGet Expense by ID:\", get_expense.to_dict() if get_expense else \"Not Found\")\n",
    "\n",
    "# Get expenses by title\n",
    "lunch_expenses = db.get_expense_by_title(\"Lunch\")\n",
    "print(\"\\nExpenses with title 'Lunch':\", [expense.to_dict() for expense in lunch_expenses])\n",
    "\n",
    "# Remove an expense\n",
    "removed = db.remove_expense(expense2.id)\n",
    "print(\"\\nRemoved Expense (Groceries):\", \"Success\" if removed else \"Failed\")\n",
    "\n",
    "# Print all expenses after removal\n",
    "print(\"\\nAll Expenses After Removal:\", db.to_dict())\n"
   ]
  }
 ],
 "metadata": {
  "kernelspec": {
   "display_name": "Python 3",
   "language": "python",
   "name": "python3"
  },
  "language_info": {
   "codemirror_mode": {
    "name": "ipython",
    "version": 3
   },
   "file_extension": ".py",
   "mimetype": "text/x-python",
   "name": "python",
   "nbconvert_exporter": "python",
   "pygments_lexer": "ipython3",
   "version": "3.12.4"
  }
 },
 "nbformat": 4,
 "nbformat_minor": 2
}
