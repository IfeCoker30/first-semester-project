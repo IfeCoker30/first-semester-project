{
 "cells": [
  {
   "cell_type": "code",
   "execution_count": 1,
   "metadata": {},
   "outputs": [],
   "source": [
    "from project import Expense, ExpenseDB"
   ]
  },
  {
   "cell_type": "code",
   "execution_count": 2,
   "metadata": {},
   "outputs": [
    {
     "name": "stdout",
     "output_type": "stream",
     "text": [
      "All Expenses: [{'id': 'fd0cd769-5ec5-46e8-ae34-c506341e23fe', 'title': 'Lunch', 'amount': 12.99, 'created_at': '2025-02-22T22:42:33.449290+00:00', 'updated_at': '2025-02-22T22:42:33.449290+00:00'}, {'id': '9844c6f8-6a03-4bdc-b08b-c51695ad22f2', 'title': 'Groceries', 'amount': 45.25, 'created_at': '2025-02-22T22:42:33.449290+00:00', 'updated_at': '2025-02-22T22:42:33.449290+00:00'}, {'id': '14da61c5-6579-47ef-a29c-5547b6624404', 'title': 'Lunch', 'amount': 9.5, 'created_at': '2025-02-22T22:42:33.449290+00:00', 'updated_at': '2025-02-22T22:42:33.449290+00:00'}]\n",
      "\n",
      "Retrieved Expense by ID: {'id': 'fd0cd769-5ec5-46e8-ae34-c506341e23fe', 'title': 'Lunch', 'amount': 12.99, 'created_at': '2025-02-22T22:42:33.449290+00:00', 'updated_at': '2025-02-22T22:42:33.449290+00:00'}\n",
      "\n",
      "Expenses with title 'Lunch': [{'id': 'fd0cd769-5ec5-46e8-ae34-c506341e23fe', 'title': 'Lunch', 'amount': 12.99, 'created_at': '2025-02-22T22:42:33.449290+00:00', 'updated_at': '2025-02-22T22:42:33.449290+00:00'}, {'id': '14da61c5-6579-47ef-a29c-5547b6624404', 'title': 'Lunch', 'amount': 9.5, 'created_at': '2025-02-22T22:42:33.449290+00:00', 'updated_at': '2025-02-22T22:42:33.449290+00:00'}]\n",
      "\n",
      "Removed Expense (Groceries): Success\n",
      "\n",
      "All Expenses After Removal: [{'id': 'fd0cd769-5ec5-46e8-ae34-c506341e23fe', 'title': 'Lunch', 'amount': 12.99, 'created_at': '2025-02-22T22:42:33.449290+00:00', 'updated_at': '2025-02-22T22:42:33.449290+00:00'}, {'id': '14da61c5-6579-47ef-a29c-5547b6624404', 'title': 'Lunch', 'amount': 9.5, 'created_at': '2025-02-22T22:42:33.449290+00:00', 'updated_at': '2025-02-22T22:42:33.449290+00:00'}]\n"
     ]
    }
   ],
   "source": [
    "# Create an instance of ExpenseDB\n",
    "db = ExpenseDB()\n",
    "\n",
    "# Create expenses\n",
    "expense1 = Expense(title=\"Lunch\", amount=12.99)\n",
    "expense2 = Expense(title=\"Groceries\", amount=45.25)\n",
    "expense3 = Expense(title=\"Lunch\", amount=9.50)\n",
    "\n",
    "# Add expenses to database\n",
    "db.add_expense(expense1)\n",
    "db.add_expense(expense2)\n",
    "db.add_expense(expense3)\n",
    "\n",
    "# Print all expenses\n",
    "print(\"All Expenses:\", db.to_dict())\n",
    "\n",
    "# Retrieve an expense by ID\n",
    "retrieved_expense = db.get_expense_by_id(expense1.id)\n",
    "print(\"\\nRetrieved Expense by ID:\", retrieved_expense.to_dict() if retrieved_expense else \"Not Found\")\n",
    "\n",
    "# Retrieve expenses by title\n",
    "lunch_expenses = db.get_expense_by_title(\"Lunch\")\n",
    "print(\"\\nExpenses with title 'Lunch':\", [expense.to_dict() for expense in lunch_expenses])\n",
    "\n",
    "# Remove an expense\n",
    "removed = db.remove_expense(expense2.id)\n",
    "print(\"\\nRemoved Expense (Groceries):\", \"Success\" if removed else \"Failed\")\n",
    "\n",
    "# Print all expenses after removal\n",
    "print(\"\\nAll Expenses After Removal:\", db.to_dict())\n"
   ]
  }
 ],
 "metadata": {
  "kernelspec": {
   "display_name": "Python 3",
   "language": "python",
   "name": "python3"
  },
  "language_info": {
   "codemirror_mode": {
    "name": "ipython",
    "version": 3
   },
   "file_extension": ".py",
   "mimetype": "text/x-python",
   "name": "python",
   "nbconvert_exporter": "python",
   "pygments_lexer": "ipython3",
   "version": "3.12.4"
  }
 },
 "nbformat": 4,
 "nbformat_minor": 2
}
